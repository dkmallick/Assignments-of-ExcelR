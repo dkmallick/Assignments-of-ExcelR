{
 "cells": [
  {
   "cell_type": "code",
   "execution_count": null,
   "id": "framed-occasion",
   "metadata": {},
   "outputs": [],
   "source": [
    "import numpy as np # linear algebra\n",
    "import pandas as pd # data processing, CSV file I/O (e.g. pd.read_csv)\n",
    "import string # special operations on strings\n",
    "import spacy # language models\n",
    "from matplotlib.pyplot import imread\n",
    "from matplotlib import pyplot as plt\n",
    "from wordcloud import WordCloud\n",
    "%matplotlib inline"
   ]
  },
  {
   "cell_type": "code",
   "execution_count": null,
   "id": "floppy-discretion",
   "metadata": {},
   "outputs": [],
   "source": [
    "#Sentiment analysis\n",
    "afinn = pd.read_csv(r'C:\\Users\\lenovo\\Desktop\\ExcelR\\CSV files\\Afinn.csv', sep=',', encoding='latin-1')\n",
    "affinity_scores = afinn.set_index('word')['value'].to_dict()"
   ]
  },
  {
   "cell_type": "code",
   "execution_count": null,
   "id": "juvenile-chrome",
   "metadata": {},
   "outputs": [],
   "source": [
    "positive = pd.read_csv(r'C:\\Users\\lenovo\\Desktop\\ExcelR\\Assingments\\Data Science\\11. Text Mining\\positive-words.txt',\n",
    "                       names = ['positive_word'],\n",
    "                       error_bad_lines=False,\n",
    "                       encoding='latin-1')\n",
    "positive"
   ]
  },
  {
   "cell_type": "code",
   "execution_count": null,
   "id": "champion-showcase",
   "metadata": {},
   "outputs": [],
   "source": [
    "# remove both the leading and the trailing characters\n",
    "positive = [positive_word.strip() for positive_word in positive.positive_word]\n",
    "# removes empty strings, because they are considered in Python as False\n",
    "positive = [positive_word for positive_word in positive if positive_word]\n",
    "positive"
   ]
  },
  {
   "cell_type": "code",
   "execution_count": null,
   "id": "advance-rubber",
   "metadata": {},
   "outputs": [],
   "source": [
    "from nltk import tokenize\n",
    "sentences = tokenize.sent_tokenize(\" \".join(positive))\n",
    "sentences[5:15]"
   ]
  },
  {
   "cell_type": "code",
   "execution_count": null,
   "id": "threaded-intention",
   "metadata": {},
   "outputs": [],
   "source": [
    "positive_df = pd.DataFrame(sentences, columns=['positive_sentences'])\n",
    "positive_df"
   ]
  },
  {
   "cell_type": "code",
   "execution_count": null,
   "id": "adaptive-satellite",
   "metadata": {},
   "outputs": [],
   "source": [
    "#Custom function :score each word in a sentence in lemmatised form, \n",
    "#but calculate the score for the whole original sentence.\n",
    "nlp = spacy.load('en_core_web_lg')\n",
    "sentiment_lexicon = affinity_scores\n",
    "\n",
    "def calculate_sentiment(text: str = None):\n",
    "    sent_score = 0\n",
    "    if text:\n",
    "        positive_sentences = nlp(text)\n",
    "        for word in positive_sentences:\n",
    "            sent_score += sentiment_lexicon.get(word.lemma_, 0)\n",
    "    return sent_score"
   ]
  },
  {
   "cell_type": "code",
   "execution_count": null,
   "id": "fancy-layer",
   "metadata": {},
   "outputs": [],
   "source": [
    "# test that it works\n",
    "calculate_sentiment(text = 'amazing')"
   ]
  },
  {
   "cell_type": "code",
   "execution_count": null,
   "id": "educated-premises",
   "metadata": {},
   "outputs": [],
   "source": [
    "positive_df['sentiment_value'] = positive_df['positive_sentences'].apply(calculate_sentiment)\n",
    "positive_df"
   ]
  },
  {
   "cell_type": "code",
   "execution_count": null,
   "id": "distinct-sharing",
   "metadata": {},
   "outputs": [],
   "source": [
    "negative = pd.read_csv(r'C:\\Users\\lenovo\\Desktop\\ExcelR\\Assingments\\Data Science\\11. Text Mining\\negative-words.txt',\n",
    "                       names = ['negative_word'],\n",
    "                       delimiter='\\t',\n",
    "                       error_bad_lines=False)\n",
    "negative"
   ]
  },
  {
   "cell_type": "code",
   "execution_count": null,
   "id": "wrong-michael",
   "metadata": {},
   "outputs": [],
   "source": [
    "# remove both the leading and the trailing characters\n",
    "negative = [negative_word.strip() for negative_word in negative.negative_word]\n",
    "negative"
   ]
  },
  {
   "cell_type": "code",
   "execution_count": null,
   "id": "moderate-cartoon",
   "metadata": {},
   "outputs": [],
   "source": [
    "negative = [negative_word for negative_word in negative if negative_word]\n",
    "negative"
   ]
  },
  {
   "cell_type": "code",
   "execution_count": null,
   "id": "metric-draft",
   "metadata": {},
   "outputs": [],
   "source": [
    "from nltk import tokenize\n",
    "negative_sentences = tokenize.sent_tokenize(\" \".join(negative))\n",
    "negative_sentences[3:30]"
   ]
  },
  {
   "cell_type": "code",
   "execution_count": null,
   "id": "operating-design",
   "metadata": {},
   "outputs": [],
   "source": [
    "negative_df = pd.DataFrame(negative_sentences, columns=['negative_sentences'])\n",
    "negative_df"
   ]
  },
  {
   "cell_type": "code",
   "execution_count": null,
   "id": "minute-pride",
   "metadata": {},
   "outputs": [],
   "source": [
    "#Custom function :score each word in a sentence in lemmatised form, \n",
    "#but calculate the score for the whole original sentence.\n",
    "nlp = spacy.load('en_core_web_lg')\n",
    "sentiment_lexicon = affinity_scores\n",
    "\n",
    "def calculate_sentiment(text: str = None):\n",
    "    sent_score = 0\n",
    "    if text:\n",
    "        negative_sentences = nlp(text)\n",
    "        for word in negative_sentences:\n",
    "            sent_score += sentiment_lexicon.get(word.lemma_, 0)\n",
    "    return sent_score"
   ]
  },
  {
   "cell_type": "code",
   "execution_count": null,
   "id": "scientific-plastic",
   "metadata": {},
   "outputs": [],
   "source": [
    "# test that it works\n",
    "calculate_sentiment(text = 'great')"
   ]
  },
  {
   "cell_type": "code",
   "execution_count": null,
   "id": "empty-yesterday",
   "metadata": {},
   "outputs": [],
   "source": [
    "negative_df['sentiment_value'] = negative_df['negative_sentences'].apply(calculate_sentiment)\n",
    "negative_df"
   ]
  }
 ],
 "metadata": {
  "kernelspec": {
   "display_name": "Python 3",
   "language": "python",
   "name": "python3"
  },
  "language_info": {
   "codemirror_mode": {
    "name": "ipython",
    "version": 3
   },
   "file_extension": ".py",
   "mimetype": "text/x-python",
   "name": "python",
   "nbconvert_exporter": "python",
   "pygments_lexer": "ipython3",
   "version": "3.8.8"
  }
 },
 "nbformat": 4,
 "nbformat_minor": 5
}
